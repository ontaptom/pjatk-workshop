{
  "nbformat": 4,
  "nbformat_minor": 0,
  "metadata": {
    "colab": {
      "provenance": []
    },
    "kernelspec": {
      "name": "python3",
      "display_name": "Python 3"
    },
    "language_info": {
      "name": "python"
    }
  },
  "cells": [
    {
      "cell_type": "markdown",
      "source": [
        "# Image generation example notebook\n",
        "\n",
        "Google currently gives us at least two differente ways to generate an image:\n",
        "- model: `imagen-3.0-generate-002` - but this requires **enabled billing**\n",
        "- model: `gemini-2.0-flash-exp-image-generation` - which works well on a free tier\n",
        "\n",
        "Below is the code to genreate an image with `gemini-2.0-flash-exp-image-generation`"
      ],
      "metadata": {
        "id": "Ma9J8SWmloJF"
      }
    },
    {
      "cell_type": "markdown",
      "source": [
        "<a target=\"_blank\" href=\"https://colab.research.google.com/github/ontaptom/pjatk-workshop/blob/main/image_generation.ipynb\"><img src=\"https://colab.research.google.com/assets/colab-badge.svg\">"
      ],
      "metadata": {
        "id": "RZja1juQAHSR"
      }
    },
    {
      "cell_type": "markdown",
      "source": [
        "## Install google-genai library"
      ],
      "metadata": {
        "id": "03E9MJuAmIxM"
      }
    },
    {
      "cell_type": "code",
      "execution_count": null,
      "metadata": {
        "id": "uvCp7W6MdZPm"
      },
      "outputs": [],
      "source": [
        "%pip install -U -q google-genai"
      ]
    },
    {
      "cell_type": "markdown",
      "source": [
        "## Get imports and retrieve GOOGLE_API_KEY\n",
        "\n",
        "key should already be visible in 'Secrets' section of your workbook\n",
        "like this:\n",
        "\n",
        "![image.png](data:image/png;base64,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)\n",
        "\n",
        "Use `Gemini API keys -> Import key from Google AI Studio` or manually add the secret."
      ],
      "metadata": {
        "id": "3xjPL_ZsmN_u"
      }
    },
    {
      "cell_type": "code",
      "source": [
        "from google.colab import userdata\n",
        "from PIL import Image\n",
        "from io import BytesIO\n",
        "import base64\n",
        "from google import genai\n",
        "from google.genai import types\n",
        "\n",
        "GOOGLE_API_KEY=userdata.get('GOOGLE_API_KEY')"
      ],
      "metadata": {
        "id": "8hDjNE1bd1f5"
      },
      "execution_count": null,
      "outputs": []
    },
    {
      "cell_type": "markdown",
      "source": [
        "## Initiate client using new google genai library"
      ],
      "metadata": {
        "id": "VRo9xv9Km8AC"
      }
    },
    {
      "cell_type": "code",
      "source": [
        "client = genai.Client(api_key=GOOGLE_API_KEY)"
      ],
      "metadata": {
        "id": "E7f9xGUieLVI"
      },
      "execution_count": null,
      "outputs": []
    },
    {
      "cell_type": "code",
      "source": [
        "MODEL_ID = \"gemini-2.0-flash-exp-image-generation\""
      ],
      "metadata": {
        "id": "epkwHxOBd1ie"
      },
      "execution_count": null,
      "outputs": []
    },
    {
      "cell_type": "markdown",
      "source": [
        "# Generate an image - feel free to change the prompt"
      ],
      "metadata": {
        "id": "49QnhueNnaxb"
      }
    },
    {
      "cell_type": "code",
      "source": [
        "prompt = \"a closeup of a bumblebee looking at a coffee bean\" # @param {type:\"string\"}\n",
        "\n",
        "contents = (prompt)\n",
        "\n",
        "response = client.models.generate_content(\n",
        "    model=MODEL_ID,\n",
        "    contents=contents,\n",
        "    config=types.GenerateContentConfig(\n",
        "      response_modalities=['Text', 'Image']\n",
        "    )\n",
        ")\n",
        "\n",
        "# at this time response is  retrieved,\n",
        "# the code below is saving file to .jpg\n",
        "# and displays is on screen\n",
        "\n",
        "for part in response.candidates[0].content.parts:\n",
        "  if part.text is not None:\n",
        "    print(part.text)\n",
        "  elif part.inline_data is not None:\n",
        "    image = Image.open(BytesIO((part.inline_data.data)))\n",
        "    image.save('gemini-native-image.png')\n",
        "    display(image)"
      ],
      "metadata": {
        "id": "Vdgputrkd1n3"
      },
      "execution_count": null,
      "outputs": []
    },
    {
      "cell_type": "markdown",
      "source": [
        "# Modify an existing image :)\n",
        "\n",
        "### First we need to add our source image to colab\n",
        "\n",
        "Import an image via Files (![image.png](data:image/png;base64,iVBORw0KGgoAAAANSUhEUgAAAB8AAAAeCAYAAADU8sWcAAAAAXNSR0IArs4c6QAAAARnQU1BAACxjwv8YQUAAAAJcEhZcwAADsMAAA7DAcdvqGQAAAEVSURBVEhL7dQxTsMwGAXgZ6SMljxkzjnoVI5R1BZQ1AMAIT1EQ2gPUEXAQo9Bp3KOrM5gyWOGn4Gl/LZEg1A8kG/8n5SXNySCiAiBnPFDn4byIIbyIITvOz98HFCUJay1PIIQAjdX17icTCCE4HEnznJjDLZV5S0GACLC8+sL3nY7eN67E2d50zS4vb8DAGye1ojj+DjG+36P1WOBtm2/3X2klMizDKPzEY8A3/KfXIzHWD7kiKKIRw5rLbZVBWMMj74Qo7Wm6XxG0/mMtNY8Ptkpz+m8/C8N5UEM5UH833Ln326MQbbMUdf18fnXkiRBuSqglOKRu1wphUWaQkrJo86klFikqbcYvuV9cpb3aSgPImj5J+umxhLfkDanAAAAAElFTkSuQmCC)) -> Upload to session storage (![image.png](data:image/png;base64,iVBORw0KGgoAAAANSUhEUgAAAB4AAAAfCAYAAADwbH0HAAAAAXNSR0IArs4c6QAAAARnQU1BAACxjwv8YQUAAAAJcEhZcwAADsMAAA7DAcdvqGQAAAGVSURBVEhL7ZZNboJAGIbfYcGOZBYEd54Fk7b2CPjXNgS9QNMeosYbNEYQgRPYNj2APYdbYkLifr5uKmlGQVC0C/skbOb9wpM3M/wwIiL8AYq8cC7+xWfj8sQs73FafC0wHI2wXq/lKIUxhoe7e7QsC4wxOc4ks3GSJHgdj3OlAEBEmHguwihCTodtKIM4jqnT61Kn16U4juWY6NfMVfOGrm+bNAsCEkLIYzvJbFyWss0rE6OkvFIxSsgrF+NHPn+bY7VayVHKUWJd1+F7U3y+f6RX6M9QMwx5dIujxMdwkJiIEEQhgijM3cc8SouJCGEUYeK6mLj7D1EWpcSp1HNBRIVP8C4Ki4UQmAVBKt1wqLywmDEGRVGgqioGTh81w0DNMDBw+lBVFUKI04lblgXf9dAwzXS9YZrwXQ+ddhuKUvh2xcX4kXPO5WVwzkt9ElFWXCUHiTdvLN+bQtd1OS5E5h9IkiR4fH7CcrmUo0LU63WMXoY7twZ5jTnncGwbmqbJ0V40TYNj25lS5DU+NZmNT83lib8BumEmfxOalh4AAAAASUVORK5CYII=))  \n",
        "\n",
        "Menu available on left-hand side of colab!\n",
        "\n",
        "Make sure you remember the image name (or rename it to something simple, no spaces etc.. ;) )"
      ],
      "metadata": {
        "id": "AoN2amytrvvR"
      }
    },
    {
      "cell_type": "code",
      "source": [
        "prompt = \"modify background of a picture to african safari\" # @param {type:\"string\"}\n",
        "\n",
        "filename = \"update_me.jpg\" # @param {type:\"string\"}\n",
        "input_image = Image.open(filename)\n",
        "display(input_image)  # display input image\n",
        "\n",
        "contents = (input_image,prompt)\n",
        "\n",
        "response = client.models.generate_content(\n",
        "    model=\"gemini-2.0-flash-exp-image-generation\",\n",
        "    contents=contents,\n",
        "    config=types.GenerateContentConfig(\n",
        "      response_modalities=['Text', 'Image']\n",
        "    )\n",
        ")\n",
        "\n",
        "# at this time response is  retrieved,\n",
        "# the code below is saving file to .jpg\n",
        "# and displays is on screen\n",
        "\n",
        "for part in response.candidates[0].content.parts:\n",
        "  if part.text is not None:\n",
        "    print(part.text)\n",
        "  elif part.inline_data is not None:\n",
        "    image = Image.open(BytesIO((part.inline_data.data)))\n",
        "    image.save('gemini-native-image.png')\n",
        "    display(image)"
      ],
      "metadata": {
        "id": "V9umoqixrx3z"
      },
      "execution_count": null,
      "outputs": []
    },
    {
      "cell_type": "code",
      "source": [],
      "metadata": {
        "id": "RGupSndMs71-"
      },
      "execution_count": null,
      "outputs": []
    },
    {
      "cell_type": "markdown",
      "source": [
        "## Text - Image chat!\n",
        "\n",
        "more: check out: https://github.com/google-gemini/cookbook/blob/main/quickstarts/Image_out.ipynb for other examples\n",
        "\n",
        "Below chat is kind of \"experiment\" and definitely not working super smooth ;)\n",
        "\n",
        "Generally one executed place your request here:\n",
        "\n",
        "![image.png](data:image/png;base64,iVBORw0KGgoAAAANSUhEUgAAAxAAAAB5CAYAAACp6sfyAAAAAXNSR0IArs4c6QAAAARnQU1BAACxjwv8YQUAAAAJcEhZcwAADsMAAA7DAcdvqGQAAB+kSURBVHhe7d17dFTlvf/xt+kcMmqCRhkkCAgDThNDEhQxlIsRA1UbNGpTkYoWjssLatSyaDw/1BxXtHhMWQqiYku7gjYWqKmIBYUDASIXgxgugZAwTQZiIgEHiCUjTHBO+P2xJzDZGWDjBRL8vNaapet59p79zL6Q57uf23mHDx8+ioiIiIiIiAUR5gQREREREZETOe/o0aNqgRAREREREUvUAiEiIiIiIpYpgBAREREREcsUQIiIiIiIiGUKIERERERExDIFECIiIiIiYpkCCBERERERsUwBhIiIiIiIWKZ1IOSsys/PNyeJiIiISDumAELOqvz8fMaOHWtOFhEREZF2Sl2YRERERETEMgUQIiIiIiJimQIIERERERGxTAGEiIiIiIhYpgBCREREREQsUwAhIiIiIiKWKYAQERERERHLFECIiIiIiIhlCiBERERERMQyBRAiIiIiImKZAggREREREbFMAYSIiIiIiFimAEJERERERCw77+jRo0fNiXKW1c/n1z97inVAv+zlLH+kn3mL1qpfY2TaNKroTMaf1zBjZGfzFu1Wfn4+Y8eONSdbs7eIV14vpsGcflIuMnPHkWROFvmR8C57hZmrG4gZnsVvRznM2SIiIqekFoj2KHYMLz2bAEBVXg7z680bhPIy/5lpVAGd75zB8x0oeBARERGRjkctEO1VoIrX0kcybQcwcgZlf84gXGhw8IMJJD2+EiIzeHPDDG4Ot1E79p1aIE6g7G85FFaiN6wiYagFQkREviu1QLRXtn489ofH6AmwPJtnlzeZt4CvV/Ls71YCkWS8+nyHCx5EREREpONRC0Q7V543nPQ3aqHzfby3MZdrbMfzNj6XxJ1zDhJ525tsePXm4y0UTbWsnDONaa8vpPygkdS57xDGTHqJyek9iTz+FbBrNiNv+D1VP32a1UsfMAKWELV/HMnwF6vo9/9Ws/whc+53d6ZbIBpWzeKVFfXQN4MpvxmIvVUuQC2L82az3hdL2qSJpDYFx1nEZZJ7m52id99nbY2PQDPYOseSfEMm6dc6CLksxwS8pSz+x8eUf9mAPwB0suNwDuWm21JxRZm3buu0y3pxMNlXy/pliygur8d3BIiwYXc4GTrqdlJNBz7522gvRdNnUnwghtRHf0vaZQBlFOQU4r4klfEZ8PG7a/H4AtjsDq67L4ube5i+4pjj+2U9lsTn/5jH0n958R8BOkURe82t3HtzPFE0ULpwHkUtZe8UhTMlk7tHOdv+/mYf7o/fZ2mJB++hAGDDfrGDhOvDX5M218NmJ6ZrAtf/Mp2BDtPWbb4bbBc4cA6+iduvdxFlfvUS8FK2cinFmz6nwecnwMnPOwA+N8UfLGVtlRd/AGz2GHoNSiczsZbZbxTTcEkqWU+m0eqqBLyU/rOQjyu8NPgDpz5GGMev+UQeuMLN+8vW4tlrlPlU97TPXWxs7/Ubz4A9Bkf89WTeOpDWp9DafdLmmpzmMyIiImeH+c+gtDMJk2ZwX2fg4Ntk/6nqeEbZNJ6YcxAiM5jxQkjwcHAlTw0bzoQXF1LelMCIsWMYMzKBpup1zH50OMN+t5JgTPEdrOSJ3r3p3bs3Tyw357VvMdckEwuwcyvlfnMuUFdGuQ/onszAlgo5gK+MglcLKK4J4OgXT3wfB/jqKf1gJnlzyzB/lX9rAXkzF1K6uxEudRKfEI/zogDeyiIKXp5J0R7TDmF8q7LuKWLmy7NZvKkef6dYXAnxuLrZCex1U1TwMjNXnHRAjXW+9cx7q5jPO/UiPsFJDDE4upg3CuPIduZNm8nCHYeJ6W2cR1vAR33JXF79RzFLXn+FhVsbiQ7J86yew6uLalt/T3M9Ra/nUbDCjTdgJ9YVT7zLge1E18S9kLzXF1K6pxFbVxfxCfG4utpo3F3Kwpl5FGwN3bqBdX9+mYIVbhqaY3AmxBu/MeDFvaKAvNeLqG8O2fxQGXOnzaRwtZuGQDS9EuKJT3ARewH497opKnjV9P3AnnXMfrWAokovAbtxnXpFN+JZXcDLc9bT2Hprw6EyCvJmsnBTPY0Ey3VFDAHvt7u2jaX5vFxQhOdr47tc3aPgoHH+Zq3wmjenftlM8gqKcHsD2Lu5iE9w4bA1Ur9pITOnzaXskHmPk98n38czIiIiZ8dPnnvuuefMidKORMQyJL6et98vp35tFbFjfkn/6FpmPzCRRXthxCvvMjmppU2hltm/ymDWTuh855tseP+/GfPzUYy67R6y7kvmwOKFfFKykI+jf8k911xk7PLVRt6es5oDXa7nP+8dSDD1mIOlb5O/5gCXDP9P7ru2JXcXS6YvZAcQd9uT3OI07XQaNm/eTGJiojn5O9m7dSXb98H5V6Tws74Xts6MjOGbHWupOtjANzE/Y0D31u9Za9e8T0ndEWKH3MnQXp3g652UbKjBf3A/+20uMn77KLddm0ji1SmkJl1AzeZ/4d3jYV/XQSR2DX7X3iJmvb2Rg+c5SBn/OPf//FoS+ycyICWVARfWsLnyC6q37ufyoVdx6XmtDt/a6ZbVX8HcNxZRcwQcQx9g0m/SGNA/kaRrhzL0ymbcW3eyt3obe0LKeshTwqef+8OfKw6xs+RTag6fT+/rfoYzCmAvZSu3s///AgR6p/NfE0dzdf8BpAxPwlQ8k+B+Rw5x6CcuMidNZPTA4Hnstp/VW/dy5Mud1Dab8pyH2LDxC3zeAJdffxWXAuCnYt4sFtUEsPdNJ+uxMQxPTiQxaRBDB13BoR2bqanZTlWnAQzqdT7gY927hVQejCLl/ilMSEsiMXheUi7+gk8q9+KtO0K/IS7j/ncvJn9NPc190vmvx+/k2v6JJPYfQMqwOJrKPqN2fw0HOh+/Hu4P/sKKugD2uEwmP3JbcPskBg0dSr/DZWys87F/TwT9BzsxznAD6woK2NjQ+jq13B8by70cATi/NynH9vFS9OYcNh4Ex3Xjefz+m43jHLsPd/BF1Tb2Xz6cq4yTdEIt17z5mwCXmu4T43zsx7fbH3K+wV8+l1kf1hCwO0l/9AnGDE8K/sYUrvi6ks27atjuiWTAtT05H059n3xfz4iIiJwVaoHoACJveJq82yKBdeT8YSXeD3L4fZkxuHrGbSEDHzbMZloZ0OMx5ubdTOfQCt0lI8h9wxhTUZ43m3VGr4xvaQQzdu1i165dzBhpzmvvorjmGiPi8bjdprxayrb7ACfXDDT3n7CRdOc4WiVfksLdI51GhXb1RnzBZPfHa/E2Q8zQu0nv07rjTcx1d5PWB/CXsW5juGaFUKdXVl/pKir8QJ90HripZ6suKLYeaUz4ebCsxetPc+rb8FzXprTtVmSB8+eZJF0QkhCXwJXBf4mcI015vZJIiAKO1FK7N5j21XpWVfihk4vRY1KICf1X7AIn6RkpRAH1n6zDaLfw4NkN0J1upi5W9qtTGRhlw97cwO7gBfTW1BIAYrr3av37ImK5YYgTOtlp9O4OJnrw7LZht8Uy9BdJpvNho+ewFKMV6UA9x9oH3EUs3w1cksrdput07P4wqyxmrTe4z2hTd66Q+7Dsk9I2rWEn1DmF203Ht199HVd1Mp1vGlhfXIEfG65b7yblkpAdsOP8xe2kdAZ2r2FdXWieIdx98v09IyIicjYogOgQOnPzC3mMAJrem8CgSSuNSvzLrWdmKl/5EU2A47ZbSAj3Njjpdsb0BZrms2STOfPHw54UjxPAXUZZaFeUujJjzEifeJLNNZ6ogaTEmdJCv2u3hx3NAG7KdgSAGOITzWMKAOwkuGIB8PxrpzmzDetl9VPuNqqozoTkNhU2APu1ibgA9myn4jv3Y3MQ282cZkUMPXuaS9eFrhcH864w59mxd2qd4ivfblTGe8eTZN4coNeVODsBBz24vQBOnN0B3Cz982LKdgfHKADQk/TsHKZkjyMlGBw6rjAq1Q2f/JW5JR4ajhzbGPt148l9ZgpZx5rdnNyclc2UnJAxKKE6RxFtSqp1e4wAJf6q1uMbALCTMsBlTsRdvv0k+4A9zhXs7ubm1HdV0OXONmOeIIYYc+x8sILtewCcxCeEOeERPbmyjw3w4TFOeIhw98n3+4yIiMiZpwCio+icwYxXRxj/H4AhL+aRYZp16cs9xh/vIcnGGhJt9SMhGaCJ2vowszr9WNiTSewLNLspKz+eXFtWjg9wJoapgDu6hK24Ye+OIwrAy1de4OA+vEcAvqG2eC5z57f9/LM82MN9727M1a02LJe1Ed+/AWLo1qtN6Q0RvYi9BKCRhq/MmacrBkfYE3IqDhyXmdNOz+7gfW5r2Nrm3BqfdcG3/V7q92C05AyPxx4B/rr1FL45ldzcqczMX0xxZb0xeDeUK5XUy2zQ7KPiwzm88kIOudNmMXdZKZ4D5o1bC/h81FeWUlpSxMKCWbwy9X3MbUcNB42mDkd3o5LcRvdYYlol+NjnNY77Tc2qML93LnM/KjfGTTTvYfexloOTi+liZdAKsCd4n3ZqYOu7YY49fy7rgg0y3j3mcRhh7pPv+xkREZEzTgFEB9I5aQjGmtT9GPEz81/lED8xJ7RVW/+lOelHxE5CgvEG2b21LJgW7BIU4SSxf5gKeOT5bYMKaPuG/PDhYBcSH7XlFVSE+9S1dHay4vTL+h+n7DPuo+Hf5rSOw99kVKYDXk/bc1teQUW5J1hBPc6eMJbsRzNJjXNgtwEBP96d6yn62yymvjCV2WtDK74OUidO4oFfDCQ22A8wcLCeitULmTM9l9zpC3GHDhhu9lHx4SzycnPIzctj1t8WsvDDYkrdXg5fFI1p3iu8p/3oHeZwsCePr878W1s+tce60H3vmoItNke8eNoc1/h4ggGOJd/7MyIiImeaAohz0f+ZE9pK6N2288KPib1/Is4IwOPG3RzaJSiRcL00aP7GnBLkN6YibRFBsE+5i8zcXHJP9jFP0XkCp1vWb045MXMMXawcuJ1qCZBihme1Paemz7iQ8fk2RxJpv85iSk4OU7LGkzHchaMT0Oyndmk+haFNBRFR9BycwcTJOeQ+k83EX6cxsHsUNiBwoJSCt9cFx5H4KZv3KnNL6vERRWxCKul3jGPi5GxynsthyqNpdA/5WnBwscUX/60EXwq4ftX2N7b+tEy3+z2KCB78klSy2hzP9Pl1knnvtn6AZ0RERM4sBRDnkK7djD+167aE9HVppYryLQCRXNRqIOSJVe0ImTr2XGIfyDUuY1rRsirwVrjxAa5rwq23AHzpPT4INpR/N14fENGN7pcBju50icB402yxK8kpWSprNFEXATSw5/MTDDxt/pz6AwB2OocOVD6h+uD27UuXy4z7vMEb9opYYKydMHDUOLKemUKGywb48bhNU8W26BRFbFwqGQ9nk/PIEKN70W43bj+wdy1FlX6IcJI+OZuJY9JIudpFbOcobBGA19tmwHrXi402Ce/uE5R/d71pHwfdg0GHN9h964zq2tWoxH9V33r62m/rh3hGRETkjFIAcQ5JGHELkYD3g48oD9ejoOx95lcD3MyIq4NpNoyF5XbVhulrXEXpp+a0c0dSogsI4HGX8a/qBohwkXSi4SNflbExzAwz/rIKPAB9XBiT5/TB1QeggdIN4SuktR/mkfPCVPLerQgZzHtypy5ryMDT8i1hZ+Lxf7bV6I9/iYsrW8bP/MR4F9x40FzNBepqaZlrqD1xuJxGtyD3RtaHW3vAX8qc53KZmjeL4r3A7iJm5U0ld3pRmHvcTq/LQoc5Byibn8fUF3Ip2BqS3KJb99ZvxL8MVvYv7okzTFDm39n2uerpchqDtCu2t8kDcFd5zEn0udLoxtaw5VNqw1Xi6xaT91wuU6cVUmHqvvWdOVw4OxvjcDZ+FvbOovStHHKn5jFrVbhfZPbDPCMiInLmKIA4lwx6gMlJQN1rjM1ewsHQv7wHVpLz+GvUAv2ysxjRMktTjyGMcBgzM721OHRqniaq3niC18JUms8ZCdeR1Al8lUtYsxtsCdeRdMInwsf6BUuoDT2ne4rJ/18PEEXKiJbWADsDRxjTiPo+m0theeu+3IG6Jbz/qQ+OgDM5Puxqv2FZKGvUwBuItwM7FzN7qTEVaYtAXTF/Xe4BbLhShx6rBDv6GZXxQMWnlIYWNVDLkgXrf7h+9d9FjzRS+wDNHooKiltfk2Yfpe8txdMcwN85maTLgG49cQT8BA6sZ+km0y8KeFi3pQGw4ezX05h6tUc0/iMB3KtM1xvwlWw0grBufXDZgZgYI5g5UEapaeGzQN0SZn/YNhjAlcbI7sCBYuaZrpNvUwGFW9tWme3XpBlTpR5cz9wFFfhCg4iWa9UcgD5JxJtmrfruepJ2fXA64eV/pbiudfl8mwpZWg2BI9EkD7DS4egHekZEROSM0UJyHUnLom9cwvXj72u9UjIAFzEwPZn6woVsLF3ErD8uY8vuMj6ZN53HnprNxq+g800z+CBnCBceq3x25croT5ldtIsdH87infU7qS5dQv6zj/H7pU1k3DmEHRW7TAvJreSJ3iOYOH06O/t3sIXkQp13Kba9qymr9XMEG/1H3slV5v7pLQvJdbJj/3onn67ZQGXt51SVrmJB0TYOBmw4bpjAuAEhb7EvcuHsVMW2qn18Ub6W1dtq2L2rgi1rPuKDVdX4joJj+ANMuM48wedJWCmrzUHilc1s21SDt2YjazdUUltXRdmaj/hg1Q6+CoDjuvu4N9VxvFJ2kYPzdpRQ9dV+dqwP/rayNXz0QTHVAReubvvZfzDMQnJcylUjkrDe3f5k+4VbsO5keTZ6/PRy9peV8YV3JxvXBstdUcqqhYvYuDcAdheZD6XT+z+Mc+e8+As2bN/L3sq1rC6tpLa2ivLNa/jogzXUHAZ73J38ZsRl2IDze/Sgufwzary1bFz7Cds8dXjc2yhduYBFW/ZDhIPUe+/iqiigcy/sn3/CjoZD1JauZtvO3XjcW1iz5H0Wr6uh+fIknBF72e9vxnFVS/nPp2ePttdp48oFLCr1YrPbCQQCcMUgRicGz9R5F+FyRlK1tYp9X2xj7bpt1NR7qNgcvFY+wJHKA/cNIvoUg+hPf/FAsF0ex+UHNlH2xT52lq5lw45aPq8uN85JqZcAdlyZj5B+RcuddbLr/QM9IyIicsac8H2rdFCdR/DSmtW8ef8Q+kWWs3LufOYvLycyKYOn56xmwx8zcJhe6TnG/o0Nf32Mm3tH4v1kIfPnLmSbYwwvLV3DjF+Y5oo9x7gSrzIq052uIqnt9PvHRaVw76MZxF8awOuuoGJnAzaHi7Rxk8i6se10nLFDHyA7K4OB3WOwNRizBbn3+LFd5iJtXDZZo9rucyqWytotjaxJ40iLc2A7Uo87eFx794GkP5hNlnkRMmIY8uBvGTvYSVSEj3p3BRWeBs7/aToTnxxHknlNgPbiAheZk7IZd6MLRye/Ue5yDw0RMcRenUFW9rhWC9LZE8cdvx6HjPNS4fYSiIpl4G1ZZP86ZBG4iFjSHm357gDencGZhv5twxGXxrjJWaQdW9vAzsB7s8i4OpYoW3DbCg8N5ztJ/VUW2Q9mct0VNqABd0VIN7HQ6+Q3yvN5YwyuG8cz6dZex7cL1W0ID2Qbx4qJaDBmRHLX4+/kwHXjOLIfTSP2B/sX3Y7rl9lkj0vDdZkN/x63cU4abMR0H0hGVjbjEsOOHjqhH+IZERGRM+O8o0ePnnLOFpEfSn5+PmPHjjUnnznuQnILyiB5HDm/DFMr31vEK68X03BJKllne0aYU5VVzg1bC8h51w3xY8kdG2/OFREROet+sPdVIh2Be8t2AkQxMKX9V8g7UlnlJLbOJfd/8ngl3PgIoLbGGLoe2+vHPdWyiIi0Xwog5EcnEBwD6nMvZml5ALqlMKSHeav2oSOVVSzq2R3HIR8NG9e1HrjeMoD4Mx9ExJKc0F77j4mIyI+dujDJWXU2ujCVFuSw8NiiYXbix0xibLgV2Tj7XZhOq6zSQfipmP8yc8v9EGHDccWVdLkA/q+hFs9unzEg+VeTTntMgYiIyJmiFgj50bngQntwMLKD+DsmtusKeUcqq1hlJ35MNlm/SsXlsNFQYwzSdn8ZIPpbDkgWERE5k9QCIWfV2WiBEBEREZFvTy0QIiIiIiJimQIIERERERGxTAGEiIiIiIhYpgBCREREREQsUwAhIiIiIiKWKYAQERERERHLFECIiIiIiIhlCiBERERERMQyBRAiIiIiImKZAggREREREbHsvKNHjx41J4qcKfn5+eYkEREREWnHFECIiIiIiIhl6sIkIiIiIiKWKYAQERERERHLFECIiIiIiIhlCiBERERERMQyBRAiIiIiImKZAggREREREbHshNO4+v1+c5KI/AjZ7XZzkoiIiPyIqQVCREREREQsUwAhIiIiIiKWKYAQERERERHLFECIiIiIiIhlCiBERERERMQyBRAiIiIiImKZAggREREREbFMAYSIiIiIiFimAEJERERERCxTACEiIiIiIpYpgBAREREREcsUQIiIiIiIiGUKIERERERExDIFECIiIiIiYpkCiHNAY2UhL/0mnWHJccTFGZ/kYemMz8mnuKbJvHk7UczkuDji4iZTbM4SERERkXZLAUSH1kjxlGEMuv0Z8tdXsy8kVmjaV03J31/ioZuSufut6tCdRERERES+NQUQHVjdW/fx0Hv7gB5kTl3AmtJKKiuNz5ZVC3jhrr4AbH7xbp4vNe8tIiIiInL6FEB0WBUUzq4AIhn92gJeuDOeLhcez43sFk9m7mLm3RsNNPLOq4XsC91dRERERORbUADRYX1J3T6AHiRcGW3OPGbA2PvpC0TWVFNlzmyqY9mL40kf1DJ2IplhmZN5p7TRvCV1f0knLi6OySugsfQdJmcOOj7e4qbxvLT8BOFJoJHNf53MHS3HSL6DZ060rYiIiIi0ewogOqyu9OgCUE3JtrYV/mOcD7O4spItq55icGh6YzGTh40k660Sqokn9a5MMm900rhtEc/fM+iE4yYq3hnPjfc8z6J9CYy+K5PRKV1oqikh/7Fh3PFWXeuNA9Xk3zOIu3+/iIrDfY1jDIV/PnYLk1d4W28rIiIiIh3CeUePHj1qTgTw+/3mJGln9v19PMNySgDoe+PDTHgkk5uu7EF0pHlLszryM0fy0jaIf3Aeb08awLE2jD2LyLp1Mssao7nnnQ08OzC4x1/SGfkHI6iIn7SYeQ/2peUwjcsnM+yxRTRF3sO8Lc8yIJh+bJ/+T7L4nYfp27KDJ587xkzH09hEE6P5Y+U0UoNZ0v7Y7XZzkoiIiPyIqQWiA+ty10zmPWJU16tXvMkzmSMZlBxH8rA7eOjFfJZt20dTwLwXsD6f6dsA11PMDA0eALqNZupzqca4ifxFtJkE9vKHmRYSPABEjxxHZiTQVMKmmpbUzeS/Wg304OGpIcEDgHMCsx+Pb/vdIiIiItLuKYDo0KIZ8Pg8tqxZwAuPpBIfjASa9lVQ/NZLZGUOI3lAOs8sqWtVWd+8vJAmoO/o6+kRkt4iOmWU0d1peQlG+0aIlKsx5nYK1YUeV5iSPCWUNAFdRnOTy5QHdLkls3WXKhERERHpEBRAnAMiu8ST+fgfWbChksrSDSx+axpP3TWYHpHGOITCJ0dy919axjTso8pthBNN6/N5JueZtp9XF2GMZtiE51iLgqFv37bhQ1i7qqgGSOqH05wH0MURNngRERERkfZNAcS55sJo+qaMZkLuHJaXbmHB04OJBir+8BDT3QB+GhuMTevWFlL493CfkmAA8T2Ijm7V3em4vvQN0zIhIiIiIu2bAogOquQPIxnUP470P4WfLQkAWyTx987kqesB6ti8OTh9aifjP6PfOL7wXPjPYiaYuyadrsbGE4x1aOTfB8xpIiIiItLeKYDooHp0jaYxANVFJadYIC4aR4zxf/8+7Ad64Ay++a/Y+b21M7TVu58xVqKsCo85D+DraipOXnARERERaYcUQHRQPW7KNKZL3TKd/1l+knUgGpfxzyUAXUgdaIw6GDx0FADVfyukItwsTe7pjIxLZlja8xSHbz44NecoRl0O7FvE0m3mTGhatZRic6KIiIiItHsKIDqqbvfw3w/2ABpZ9Ngg0p/Kp9jdeHza1q8bqf54Og/dksWiJiDlScb1N7Iib3qEhy8HvniTrJeKaQwNIpqqeXPKm9TRRNONt5IafgCDBX0Z99BgoI43J0ymODTGaVjG088tC0kQERERkY5CC8l1ZIFGluXcQtZ7p+gLlPww8/78JANCF3zwFDJ+zDOUNAKR8aRmJOD4uo5VS0vYFwD6P8XieRPoazM2b1kUru/vlrP4fvP8SXXk3zaSl9x9eWpp6LiJRoqn3MJD7+0DWxcG33QDPQ6X888VFTTZgACgheTaPS0kJyIiIqHUAtGR2aIZNXUNWz6cycM3xtOlS0hzgS2aLv1H89SflrNlvil4AHBmMmfNcmb+ZjB9O1VQ/PdCCheX0HhxPKOfnseGkODh24smdWoRy6dPYPDljZQsLqRwhQdHygRmLp/JaPPmIiIiItLuqQVCRE5KLRAiIiISSi0QIiIiIiJimQIIERERERGxTAGEiIiIiIhYpgBCREREREQsUwAhIiIiIiKWKYAQERERERHLFECIiIiIiIhlCiBERERERMQyBRAiIiIiImKZAggREREREbFMAYSIiIiIiFimAEJERERERCxTACEiIiIiIpYpgBAREREREcsUQIiIiIiIiGUKIERERERExLLzjh49etScKCIiIiIiEo5aIERERERExDIFECIiIiIiYpkCCBERERERsUwBhIiIiIiIWKYAQkRERERELPv/GNXVs3kS6dEAAAAASUVORK5CYII=)\n",
        "\n",
        "and the images will appear below. if you want to send another message (for instance modify the image), send your prompt in the same place, new image should appear within seconds below the previous one.\n",
        "\n",
        "Again - prototype, sorry if it's not working smooth ;)\n"
      ],
      "metadata": {
        "id": "rN2mz0DIDJ3n"
      }
    },
    {
      "cell_type": "code",
      "source": [
        "# helper function to display both/either text & image in response\n",
        "from IPython.display import display, Markdown, Image\n",
        "import pathlib\n",
        "\n",
        "def display_response(response):\n",
        "  for part in response.candidates[0].content.parts:\n",
        "    if part.text is not None:\n",
        "      display(Markdown(part.text))\n",
        "    elif part.inline_data is not None:\n",
        "      mime = part.inline_data.mime_type\n",
        "      print(mime)\n",
        "      data = part.inline_data.data\n",
        "      display(Image(data=data))"
      ],
      "metadata": {
        "id": "Uyipqr0YDk2z"
      },
      "execution_count": null,
      "outputs": []
    },
    {
      "cell_type": "code",
      "source": [
        "chat = client.chats.create(\n",
        "    model=MODEL_ID,\n",
        "    config=types.GenerateContentConfig(\n",
        "        response_modalities=['Text', 'Image']\n",
        "    )\n",
        ")\n",
        "\n"
      ],
      "metadata": {
        "id": "9aPUafeaDMu3"
      },
      "execution_count": null,
      "outputs": []
    },
    {
      "cell_type": "code",
      "source": [
        "import ipywidgets as widgets\n",
        "from IPython.display import display\n",
        "\n",
        "# Create input widget, button, and output area\n",
        "input_widget = widgets.Text(\n",
        "    value='',\n",
        "    placeholder='Type your message here',\n",
        "    description='You:',\n",
        "    layout=widgets.Layout(width='50%')\n",
        ")\n",
        "button = widgets.Button(description=\"Send\")\n",
        "output_area = widgets.Output()\n",
        "\n",
        "# Define what happens when button is clicked\n",
        "def on_button_clicked(b):\n",
        "    with output_area:\n",
        "        msg = input_widget.value\n",
        "        if \"exit\" in msg:\n",
        "            print(\"Exiting chat\")\n",
        "            return\n",
        "        print(f\"You: {msg}\")  # Echo the input\n",
        "        input_widget.value = ''  # Clear the input field\n",
        "        response = chat.send_message(msg)\n",
        "        display_response(response)\n",
        "        print(\"Ready for next query\")\n",
        "\n",
        "# Connect button to function\n",
        "button.on_click(on_button_clicked)\n",
        "\n",
        "# Display the UI elements\n",
        "display(widgets.VBox([input_widget, button, output_area]))"
      ],
      "metadata": {
        "id": "zz7Jj8v5DVeX"
      },
      "execution_count": null,
      "outputs": []
    },
    {
      "cell_type": "code",
      "source": [],
      "metadata": {
        "id": "iySLaNvXJIsi"
      },
      "execution_count": null,
      "outputs": []
    }
  ]
}