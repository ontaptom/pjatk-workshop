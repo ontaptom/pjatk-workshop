{
  "nbformat": 4,
  "nbformat_minor": 0,
  "metadata": {
    "colab": {
      "provenance": []
    },
    "kernelspec": {
      "name": "python3",
      "display_name": "Python 3"
    },
    "language_info": {
      "name": "python"
    }
  },
  "cells": [
    {
      "cell_type": "markdown",
      "source": [
        "# Image generation example notebook\n",
        "\n",
        "Google currently gives us at least two differente ways to generate an image:\n",
        "- model: `imagen-3.0-generate-002` - but this requires **enabled billing**\n",
        "- model: `gemini-2.0-flash-exp-image-generation` - which works well on a free tier\n",
        "\n",
        "Below is the code to genreate an image with `gemini-2.0-flash-exp-image-generation`"
      ],
      "metadata": {
        "id": "Ma9J8SWmloJF"
      }
    },
    {
      "cell_type": "markdown",
      "source": [
        "<a target=\"_blank\" href=\"https://github.com/ontaptom/pjatk-workshop/blob/main/image_generation.ipynb\"><img src=\"https://colab.research.google.com/assets/colab-badge.svg\">"
      ],
      "metadata": {
        "id": "RZja1juQAHSR"
      }
    },
    {
      "cell_type": "markdown",
      "source": [
        "## Install google-genai library"
      ],
      "metadata": {
        "id": "03E9MJuAmIxM"
      }
    },
    {
      "cell_type": "code",
      "execution_count": null,
      "metadata": {
        "id": "uvCp7W6MdZPm"
      },
      "outputs": [],
      "source": [
        "%pip install -U -q google-genai"
      ]
    },
    {
      "cell_type": "markdown",
      "source": [
        "## Get imports and retrieve GOOGLE_API_KEY\n",
        "\n",
        "key should already be visible in 'Secrets' section of your workbook\n",
        "like this:\n",
        "\n",
        "![image.png](data:image/png;base64,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)\n",
        "\n",
        "Use `Gemini API keys -> Import key from Google AI Studio` or manually add the secret."
      ],
      "metadata": {
        "id": "3xjPL_ZsmN_u"
      }
    },
    {
      "cell_type": "code",
      "source": [
        "from google.colab import userdata\n",
        "from PIL import Image\n",
        "from io import BytesIO\n",
        "import base64\n",
        "from google import genai\n",
        "from google.genai import types\n",
        "\n",
        "GOOGLE_API_KEY=userdata.get('GOOGLE_API_KEY')"
      ],
      "metadata": {
        "id": "8hDjNE1bd1f5"
      },
      "execution_count": null,
      "outputs": []
    },
    {
      "cell_type": "markdown",
      "source": [
        "## Initiate client using new google genai library"
      ],
      "metadata": {
        "id": "VRo9xv9Km8AC"
      }
    },
    {
      "cell_type": "code",
      "source": [
        "client = genai.Client(api_key=GOOGLE_API_KEY)"
      ],
      "metadata": {
        "id": "E7f9xGUieLVI"
      },
      "execution_count": null,
      "outputs": []
    },
    {
      "cell_type": "code",
      "source": [
        "MODEL_ID = \"gemini-2.0-flash-exp-image-generation\""
      ],
      "metadata": {
        "id": "epkwHxOBd1ie"
      },
      "execution_count": null,
      "outputs": []
    },
    {
      "cell_type": "markdown",
      "source": [
        "# Generate an image - feel free to change the prompt"
      ],
      "metadata": {
        "id": "49QnhueNnaxb"
      }
    },
    {
      "cell_type": "code",
      "source": [
        "prompt = \"a closeup of a bumblebee looking at a coffee bean\" # @param {type:\"string\"}\n",
        "\n",
        "contents = (prompt)\n",
        "\n",
        "response = client.models.generate_content(\n",
        "    model=\"gemini-2.0-flash-exp-image-generation\",\n",
        "    contents=contents,\n",
        "    config=types.GenerateContentConfig(\n",
        "      response_modalities=['Text', 'Image']\n",
        "    )\n",
        ")\n",
        "\n",
        "# at this time response is  retrieved,\n",
        "# the code below is saving file to .jpg\n",
        "# and displays is on screen\n",
        "\n",
        "for part in response.candidates[0].content.parts:\n",
        "  if part.text is not None:\n",
        "    print(part.text)\n",
        "  elif part.inline_data is not None:\n",
        "    image = Image.open(BytesIO((part.inline_data.data)))\n",
        "    image.save('gemini-native-image.png')\n",
        "    display(image)"
      ],
      "metadata": {
        "id": "Vdgputrkd1n3"
      },
      "execution_count": null,
      "outputs": []
    },
    {
      "cell_type": "markdown",
      "source": [
        "# Modify an existing image :)\n",
        "\n",
        "### First we need to add our source image to colab\n",
        "\n",
        "Import an image via Files (![image.png](data:image/png;base64,iVBORw0KGgoAAAANSUhEUgAAAB8AAAAeCAYAAADU8sWcAAAAAXNSR0IArs4c6QAAAARnQU1BAACxjwv8YQUAAAAJcEhZcwAADsMAAA7DAcdvqGQAAAEVSURBVEhL7dQxTsMwGAXgZ6SMljxkzjnoVI5R1BZQ1AMAIT1EQ2gPUEXAQo9Bp3KOrM5gyWOGn4Gl/LZEg1A8kG/8n5SXNySCiAiBnPFDn4byIIbyIITvOz98HFCUJay1PIIQAjdX17icTCCE4HEnznJjDLZV5S0GACLC8+sL3nY7eN67E2d50zS4vb8DAGye1ojj+DjG+36P1WOBtm2/3X2klMizDKPzEY8A3/KfXIzHWD7kiKKIRw5rLbZVBWMMj74Qo7Wm6XxG0/mMtNY8Ptkpz+m8/C8N5UEM5UH833Ln326MQbbMUdf18fnXkiRBuSqglOKRu1wphUWaQkrJo86klFikqbcYvuV9cpb3aSgPImj5J+umxhLfkDanAAAAAElFTkSuQmCC)) -> Upload to session storage (![image.png](data:image/png;base64,iVBORw0KGgoAAAANSUhEUgAAAB4AAAAfCAYAAADwbH0HAAAAAXNSR0IArs4c6QAAAARnQU1BAACxjwv8YQUAAAAJcEhZcwAADsMAAA7DAcdvqGQAAAGVSURBVEhL7ZZNboJAGIbfYcGOZBYEd54Fk7b2CPjXNgS9QNMeosYbNEYQgRPYNj2APYdbYkLifr5uKmlGQVC0C/skbOb9wpM3M/wwIiL8AYq8cC7+xWfj8sQs73FafC0wHI2wXq/lKIUxhoe7e7QsC4wxOc4ks3GSJHgdj3OlAEBEmHguwihCTodtKIM4jqnT61Kn16U4juWY6NfMVfOGrm+bNAsCEkLIYzvJbFyWss0rE6OkvFIxSsgrF+NHPn+bY7VayVHKUWJd1+F7U3y+f6RX6M9QMwx5dIujxMdwkJiIEEQhgijM3cc8SouJCGEUYeK6mLj7D1EWpcSp1HNBRIVP8C4Ki4UQmAVBKt1wqLywmDEGRVGgqioGTh81w0DNMDBw+lBVFUKI04lblgXf9dAwzXS9YZrwXQ+ddhuKUvh2xcX4kXPO5WVwzkt9ElFWXCUHiTdvLN+bQtd1OS5E5h9IkiR4fH7CcrmUo0LU63WMXoY7twZ5jTnncGwbmqbJ0V40TYNj25lS5DU+NZmNT83lib8BumEmfxOalh4AAAAASUVORK5CYII=))  \n",
        "\n",
        "Menu available on left-hand side of colab!\n",
        "\n",
        "Make sure you remember the image name (or rename it to something simple, no spaces etc.. ;) )"
      ],
      "metadata": {
        "id": "AoN2amytrvvR"
      }
    },
    {
      "cell_type": "code",
      "source": [
        "prompt = \"modify background of a picture to african safari\" # @param {type:\"string\"}\n",
        "\n",
        "filename = \"update_me.jpg\" # @param {type:\"string\"}\n",
        "input_image = Image.open(filename)\n",
        "display(input_image)  # display input image\n",
        "\n",
        "contents = (input_image,prompt)\n",
        "\n",
        "response = client.models.generate_content(\n",
        "    model=\"gemini-2.0-flash-exp-image-generation\",\n",
        "    contents=contents,\n",
        "    config=types.GenerateContentConfig(\n",
        "      response_modalities=['Text', 'Image']\n",
        "    )\n",
        ")\n",
        "\n",
        "# at this time response is  retrieved,\n",
        "# the code below is saving file to .jpg\n",
        "# and displays is on screen\n",
        "\n",
        "for part in response.candidates[0].content.parts:\n",
        "  if part.text is not None:\n",
        "    print(part.text)\n",
        "  elif part.inline_data is not None:\n",
        "    image = Image.open(BytesIO((part.inline_data.data)))\n",
        "    image.save('gemini-native-image.png')\n",
        "    display(image)"
      ],
      "metadata": {
        "id": "V9umoqixrx3z"
      },
      "execution_count": null,
      "outputs": []
    },
    {
      "cell_type": "code",
      "source": [],
      "metadata": {
        "id": "RGupSndMs71-"
      },
      "execution_count": null,
      "outputs": []
    }
  ]
}
